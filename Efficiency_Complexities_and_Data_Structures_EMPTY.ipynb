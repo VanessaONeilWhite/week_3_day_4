{
 "cells": [
  {
   "cell_type": "markdown",
   "metadata": {},
   "source": [
    "# Time/Space Complexity - Intro to Data Structures (User Defined)\n",
    "\n",
    "### Topics to discuss today:\n",
    "\n",
    "<ul>\n",
    "    <li>Time and Space Complexity - What is it/How do we measure it</li>\n",
    "    <li>Asymptotic Analysis</li>\n",
    "    <li><strong>Data Structures</strong></li>\n",
    "    <li>Some of the popular sorting algorithms</li>\n",
    "</ul>\n",
    "\n",
    "### Data Structures to discuss:\n",
    "- Arrays\n",
    "- Stacks\n",
    "- Queues\n",
    "- Linked Lists\n",
    "    - Singly Linked Lists\n",
    "    - Traversing A Linked List\n",
    "    - Finding a node in a linked list\n",
    "    - Adding to a linked list\n",
    "- Binary Search Trees\n",
    "    - Construction\n",
    "    - Traversal\n"
   ]
  },
  {
   "cell_type": "markdown",
   "metadata": {},
   "source": [
    "## Time and Space Complexity\n",
    "\n",
    "#### What is it?\n",
    "\n",
    "Time and space complexity is the measure of how much time a given action(function) will take to solve a problem. In the same fashion, we determine how much a given data structure will need in terms of memory allocation. A problem can have multiple solutions and finding the optimal solution for the problem needs to be analyzed in time and space.\n",
    "\n",
    "#### How do we measure Time and Space Complexity?\n",
    "\n",
    "In order to measure time and space complexity we use Asymptotic analysis. The reason for this is because we need a way to measure different algorithms (functions) based on the size of their inputs in a mathmatical way. For example, we could have a function that is computed as f(n) and another that is g(n^2). All things around the function staying constant, the only thing that changes is the size of the input. Below is the chart that shows the different Asymptotic analysis formats. "
   ]
  },
  {
   "cell_type": "markdown",
   "metadata": {},
   "source": [
    "<table style=\"text-align:center;\" class=\"table table-bordered\">\n",
    "<tbody><tr>\n",
    "<td>constant</td>\n",
    "<td>−</td>\n",
    "<td>Ο(1)</td>\n",
    "</tr>\n",
    "<tr>\n",
    "<td>logarithmic</td>\n",
    "<td>−</td>\n",
    "<td>Ο(log n)</td>\n",
    "</tr>\n",
    "<tr>\n",
    "<td>linear</td>\n",
    "<td>−</td>\n",
    "<td>Ο(n)</td>\n",
    "</tr>\n",
    "<tr>\n",
    "<td>Linear Logarithmic</td>\n",
    "<td>−</td>\n",
    "<td>Ο(n log n)</td>\n",
    "</tr>\n",
    "<tr>\n",
    "<td>quadratic</td>\n",
    "<td>−</td>\n",
    "<td>Ο(n<sup>2</sup>)</td>\n",
    "</tr>\n",
    "<tr>\n",
    "<td>cubic</td>\n",
    "<td>−</td>\n",
    "<td>Ο(n<sup>3</sup>)</td>\n",
    "</tr>\n",
    "<tr>\n",
    "<td>polynomial</td>\n",
    "<td>−</td>\n",
    "<td>n<sup>Ο(1)</sup></td>\n",
    "</tr>\n",
    "<tr>\n",
    "<td>exponential</td>\n",
    "<td>−</td>\n",
    "<td>2<sup>Ο(n)</sup></td>\n",
    "</tr>\n",
    "</tbody></table>"
   ]
  },
  {
   "cell_type": "code",
   "execution_count": null,
   "metadata": {},
   "outputs": [],
   "source": [
    "# link for review because you have literally no idea what is going on https://www.geeksforgeeks.org/introduction-to-algorithms/?ref=gcse"
   ]
  },
  {
   "cell_type": "markdown",
   "metadata": {},
   "source": [
    "## Set <br>\n",
    "<p>A Set is an unordered collection data type that is iterable (loop), mutable, and has no duplicate elements.<br>Major advantage is that it is highly optimized in checking if something is in the set, as opposed to checking if something is in a list.</p>"
   ]
  },
  {
   "cell_type": "markdown",
   "metadata": {},
   "source": [
    "##### Declaring"
   ]
  },
  {
   "cell_type": "code",
   "execution_count": 1,
   "metadata": {},
   "outputs": [
    {
     "name": "stdout",
     "output_type": "stream",
     "text": [
      "<class 'set'>\n",
      "{1, 2, 3, 4}\n"
     ]
    }
   ],
   "source": [
    "# set() or {} iterable(can be looped through, mutable can be changed)\n",
    "s1 = {1,2,3,4}\n",
    "print(type(s1))\n",
    "print(s1)\n",
    "s2 = set([1,2,3]) #you can convert a list to a set \n",
    "print(s2)\n",
    "s3={} # this will create an empty dictionary to declare an empty set is s3 = set()\n",
    "#why would we use a list instead of a set? order doesn't matter in a set and duplicates matter in a set"
   ]
  },
  {
   "cell_type": "markdown",
   "metadata": {},
   "source": [
    "##### .add()"
   ]
  },
  {
   "cell_type": "code",
   "execution_count": 2,
   "metadata": {},
   "outputs": [
    {
     "name": "stdout",
     "output_type": "stream",
     "text": [
      "{1, 2, 3, 4, 8}\n"
     ]
    }
   ],
   "source": [
    "# set.add()\n",
    "s1.add(8)\n",
    "print(s1)\n"
   ]
  },
  {
   "cell_type": "markdown",
   "metadata": {},
   "source": [
    "##### .remove()"
   ]
  },
  {
   "cell_type": "code",
   "execution_count": 3,
   "metadata": {},
   "outputs": [
    {
     "name": "stdout",
     "output_type": "stream",
     "text": [
      "{1, 2, 4, 8}\n"
     ]
    }
   ],
   "source": [
    "# removes by value\n",
    "# set.remove()\n",
    "s1.remove(3)\n",
    "print(s1)\n",
    "#you will get an error if you remove something that isn't there"
   ]
  },
  {
   "cell_type": "markdown",
   "metadata": {},
   "source": [
    "##### .union() "
   ]
  },
  {
   "cell_type": "code",
   "execution_count": 4,
   "metadata": {},
   "outputs": [
    {
     "name": "stdout",
     "output_type": "stream",
     "text": [
      "{1, 2, 3, 4, 5, 6, 7}\n",
      "{1, 2, 3, 4, 5, 6, 7}\n",
      "{1, 2, 3, 4, 5, 6, 7}\n"
     ]
    }
   ],
   "source": [
    "# Returns a union of two sets, can also use '|' or set.union(set)\n",
    "# joins all numbers, gets rid of duplicates\n",
    "\n",
    "s1={1,2,3,4}\n",
    "s2={4,5,6,7}\n",
    "\n",
    "print(s1|s2)\n",
    "print(s1.union(s2))\n",
    "print(s2.union(s1))\n",
    "\n",
    "#out of place algorithm becuase it's not changed forever, you can still print s1 and s2 separately"
   ]
  },
  {
   "cell_type": "markdown",
   "metadata": {},
   "source": [
    "##### .intersection()"
   ]
  },
  {
   "cell_type": "code",
   "execution_count": 7,
   "metadata": {},
   "outputs": [
    {
     "name": "stdout",
     "output_type": "stream",
     "text": [
      "{4}\n",
      "{4}\n",
      "{4}\n"
     ]
    }
   ],
   "source": [
    "# Returns an intersection of two sets, can also use '&'\n",
    "# only takes similar elements from both sets\n",
    "#think of it like a venn diagram, it's only grabbing the middle\n",
    "\n",
    "print(s1&s2)\n",
    "print(s1.intersection(s2))\n",
    "print(s2.intersection(s1))\n"
   ]
  },
  {
   "cell_type": "markdown",
   "metadata": {},
   "source": [
    "##### .difference()"
   ]
  },
  {
   "cell_type": "code",
   "execution_count": 8,
   "metadata": {},
   "outputs": [
    {
     "name": "stdout",
     "output_type": "stream",
     "text": [
      "{1, 2, 3}\n",
      "{5, 6, 7}\n"
     ]
    }
   ],
   "source": [
    "# Returns a set containing all the elements of invoking set that are not in the second set, can also use '-'\n",
    "# only takes values from the first set that are not in the second set\n",
    "# order matters\n",
    "print(s1-s2)\n",
    "print(s2.difference(s1))\n"
   ]
  },
  {
   "cell_type": "markdown",
   "metadata": {},
   "source": [
    "##### .clear()"
   ]
  },
  {
   "cell_type": "code",
   "execution_count": 9,
   "metadata": {},
   "outputs": [
    {
     "name": "stdout",
     "output_type": "stream",
     "text": [
      "{1, 2, 3, 4}\n",
      "set()\n"
     ]
    }
   ],
   "source": [
    "# Empties the whole set\n",
    "# set.clear()\n",
    "# in-place function, meaning the intergirty of the original is changed\n",
    "\n",
    "print(s1)\n",
    "s1.clear()\n",
    "print(s1)\n"
   ]
  },
  {
   "cell_type": "markdown",
   "metadata": {},
   "source": [
    "##### Frozenset <br>\n",
    "<p>Frozen sets are immutable objects that only support methods and operators that produce a result without affecting the frozen set or sets to which they are applied.</p><br><b>Unique & Immutable</b>"
   ]
  },
  {
   "cell_type": "code",
   "execution_count": 10,
   "metadata": {},
   "outputs": [
    {
     "name": "stdout",
     "output_type": "stream",
     "text": [
      "frozenset({1, 2, 3, 4, 7})\n",
      "<class 'frozenset'>\n"
     ]
    }
   ],
   "source": [
    "# frozenset([]) cannot be changed\n",
    "fs=frozenset([1,2,3,4,7,7,7,7,7])\n",
    "print(fs)\n",
    "print(type(fs))"
   ]
  },
  {
   "cell_type": "markdown",
   "metadata": {},
   "source": [
    "## Arrays"
   ]
  },
  {
   "cell_type": "markdown",
   "metadata": {},
   "source": [
    "In python we benefit from the dynamic array which means the block of memory will expand as needed for the given input to the array. In traditional arrays (depending on the type of operating system) we will usually store our inputs in 4 or 8 consecutive blocks of memory. Below is a diagram of how that looks under the hood:\n",
    "\n",
    "<img src=\"http://www.mathcs.emory.edu/~cheung/Courses/170/Syllabus/09/FIGS/array02x.gif\" style=\"height:250px; width:350px;\">"
   ]
  },
  {
   "cell_type": "markdown",
   "metadata": {},
   "source": [
    "## Which in python looks like this:"
   ]
  },
  {
   "cell_type": "code",
   "execution_count": 11,
   "metadata": {},
   "outputs": [
    {
     "name": "stdout",
     "output_type": "stream",
     "text": [
      "[23, 4, 6, 18, 5, 7]\n"
     ]
    }
   ],
   "source": [
    "array = [23,4,6,18,5,7]\n",
    "print(array)\n",
    "\n",
    "#ordered and mutable"
   ]
  },
  {
   "cell_type": "markdown",
   "metadata": {},
   "source": [
    "### Let's take a look at some of the time and space analysis of arrays"
   ]
  },
  {
   "cell_type": "code",
   "execution_count": 13,
   "metadata": {},
   "outputs": [
    {
     "name": "stdout",
     "output_type": "stream",
     "text": [
      "6\n",
      "[23, 4, 6, 18, 5, 9999]\n"
     ]
    }
   ],
   "source": [
    "#indexing a list (array in other languages) \n",
    "indexing = array[2] #constant space and time - O(1)\n",
    "\n",
    "#searching through a list (array)\n",
    "#linear time - O(n) and constant space O(1)\n",
    "for i in array: \n",
    "    if i == 6:\n",
    "        print(i)\n",
    "        \n",
    "\n",
    "#copy a list \n",
    "#linear time - O(n) and LInear Space O(n)\n",
    "copy = array[:]\n",
    "\n",
    "#setting an index in a list\n",
    "#constant time AND constant space - O(1)\n",
    "\n",
    "array[5] = 9999\n",
    "print(array)"
   ]
  },
  {
   "cell_type": "markdown",
   "metadata": {},
   "source": [
    "## Stacks and Queues (Review)\n",
    "\n",
    "** Stacks ** as the name suggests is a data structure that allows for data to follow the Last In First Out priciple(LIFO). Think of a stack of pancakes for example. To get the first pancake you would  start with the top and go down.\n",
    "\n",
    "##### Searching through a stack will be Linear Time O(n) - Constant Space O(1)\n",
    "##### Selecting the last item will be done in Constant Time O(1) - Constant Space O(1)\n",
    "##### Adding to the stack should take Constant Time O(1) - Constant Space O(1)\n",
    "\n",
    "** Queues ** are similar but in this case follow the First In First Out principle(FIFO). Think of this as a line in a black friday sale. The first person camped out for the big screen tv is the first to get it.\n",
    "\n",
    "##### Searching through a queue will be Linear Time O(n) - Constant Space O(1)\n",
    "##### Selecting the first item will be done in Constant Time O(1) - Constant Space O(1)\n",
    "##### Adding to the queue should take Constant Time O(1) - Constant Space O(1)"
   ]
  },
  {
   "cell_type": "code",
   "execution_count": 18,
   "metadata": {},
   "outputs": [
    {
     "name": "stdout",
     "output_type": "stream",
     "text": [
      "[10, 20, 30]\n",
      "[10, 20]\n",
      "30\n",
      "['Ash', 'Brock', 'Misty']\n",
      "Ash\n",
      "['Brock', 'Misty']\n"
     ]
    }
   ],
   "source": [
    "stack = []\n",
    "\n",
    "stack.append(10)\n",
    "stack.append(20)\n",
    "stack.append(30)\n",
    "\n",
    "print(stack)\n",
    "\n",
    "last_item = stack.pop()\n",
    "print(stack)\n",
    "print(last_item)\n",
    "\n",
    "#searching through a queue - Linear Time O(n) and Constant Space O(1)\n",
    "queue = []\n",
    "queue.append(\"Ash\")\n",
    "queue.append(\"Brock\")\n",
    "queue.append(\"Misty\")\n",
    "\n",
    "print(queue)\n",
    "first_person = queue.pop(0)\n",
    "print(first_person)\n",
    "print(queue)"
   ]
  },
  {
   "cell_type": "code",
   "execution_count": null,
   "metadata": {},
   "outputs": [],
   "source": []
  },
  {
   "cell_type": "markdown",
   "metadata": {},
   "source": [
    "## Linked List (Data Structure)\n",
    "\n",
    "A linked list is created by using the node class. We create a Node object and create another class to use this node object. We pass the appropriate values thorugh the node object to point the to the next data elements.\n",
    "\n",
    "There are some advantages and disadvantages with this data structure. **Advantages** Linked Lists can save memory because they can be flexibile with memory management which saves memory. **Disadvantages** Finding or adding to the list requires traversing the entire list."
   ]
  },
  {
   "cell_type": "code",
   "execution_count": 22,
   "metadata": {},
   "outputs": [
    {
     "name": "stdout",
     "output_type": "stream",
     "text": [
      "4\n",
      "1\n",
      "2\n",
      "3\n",
      "4\n"
     ]
    }
   ],
   "source": [
    "class LinkedListNode():\n",
    "    def __init__(self, value):\n",
    "        self.value= value\n",
    "        self.next = None\n",
    "    def traverse(self):  #goes through the list\n",
    "        node = self\n",
    "        while node != None:\n",
    "            print(node.value)\n",
    "            node = node.next\n",
    "    \n",
    "node1 = LinkedListNode(1)  #you only have access to node1 \n",
    "node2 = LinkedListNode(2)\n",
    "node3 = LinkedListNode(3)\n",
    "node4 = LinkedListNode(4)\n",
    "\n",
    "node1.next = node2\n",
    "node2.next = node3\n",
    "node3.next = node4\n",
    "\n",
    "print(node1.next.next.next.value)\n",
    "node1.traverse()"
   ]
  },
  {
   "cell_type": "code",
   "execution_count": 27,
   "metadata": {},
   "outputs": [
    {
     "name": "stdout",
     "output_type": "stream",
     "text": [
      "Sun\n",
      "Mon\n",
      "Tue\n",
      "Wed\n",
      "Thur\n",
      "Fri\n"
     ]
    }
   ],
   "source": [
    "class Node:\n",
    "    def __init__(self, value):\n",
    "        self.value= value\n",
    "        self.next= None\n",
    "\n",
    "class LinkedList:\n",
    "    def __init__(self):\n",
    "        self.head = None\n",
    "        \n",
    "    def prepend(self, new_value): #change the head\n",
    "        new_node= Node(new_value)\n",
    "        new_node.next = self.head\n",
    "        self.head = new_node\\\n",
    "        \n",
    "    def append(self, new_value): #push to the end\n",
    "        #create new node\n",
    "        new_node = Node(new_value)\n",
    "        \n",
    "        #check if the linked list is empty\n",
    "        if self.head is None:\n",
    "            self.head = new_node\n",
    "            return\n",
    "        \n",
    "        #but if the list is not empty, I need to traverse to the end\n",
    "        #add the new node to the end\n",
    "        \n",
    "        last = self.head\n",
    "        while last.next:\n",
    "            last = last.next\n",
    "        \n",
    "        last.next = new_node\n",
    "        \n",
    "    def insertAfter(self, prev_node, new_value):\n",
    "        #check if the prev node even exists\n",
    "        if prev_node is None:\n",
    "            print(\"The given node is empty!\")\n",
    "            return \n",
    "        #if node is not empty, then create a new node\n",
    "        new_node = Node(new_value)\n",
    "        \n",
    "        #update the new node's next pointer to point to the preve nodes next \n",
    "        new_node.next = prev_node.next\n",
    "        #update the prev Node to point at the new node\n",
    "        prev_node.next = new_node\n",
    "        \n",
    "    def traverse(self):\n",
    "        node = self.head\n",
    "        while node != None:\n",
    "            print(node.value)\n",
    "            node = node.next\n",
    "            \n",
    "weekday_links = LinkedList()\n",
    "weekday_links.prepend(\"Mon\")\n",
    "weekday_links.append(\"Tue\")\n",
    "weekday_links.append(\"Thur\")\n",
    "weekday_links.insertAfter(weekday_links.head.next , \"Wed\")\n",
    "weekday_links.prepend(\"Sun\")\n",
    "weekday_links.insertAfter(weekday_links.head.next.next.next.next , \"Fri\")\n",
    "weekday_links.traverse()"
   ]
  },
  {
   "cell_type": "markdown",
   "metadata": {},
   "source": [
    "## Binary Search Trees"
   ]
  },
  {
   "cell_type": "code",
   "execution_count": 35,
   "metadata": {},
   "outputs": [
    {
     "name": "stdout",
     "output_type": "stream",
     "text": [
      "True\n",
      "False\n",
      "1\n",
      "17\n"
     ]
    },
    {
     "data": {
      "text/plain": [
       "1"
      ]
     },
     "execution_count": 35,
     "metadata": {},
     "output_type": "execute_result"
    }
   ],
   "source": [
    "class BST():\n",
    "    def __init__(self, value):\n",
    "        self.value = value\n",
    "        self.left = None\n",
    "        self.right = None\n",
    "        \n",
    "    def insert(self, value):\n",
    "        if value < self.value:\n",
    "            if self.left is None:\n",
    "                self.left = BST(value)\n",
    "            else: \n",
    "                self.left.insert(value)\n",
    "        else:\n",
    "            if self.right is None:\n",
    "                self.right = BST(value)\n",
    "            else:\n",
    "                self.right.insert(value)\n",
    "                \n",
    "        return self\n",
    "    \n",
    "    def contains(self, value):\n",
    "        if value < self.value: \n",
    "            if self.left is None:\n",
    "                return False\n",
    "            else:\n",
    "                return self.left.contains(value)\n",
    "        elif value > self.value:\n",
    "            if self.right is None:\n",
    "                return False\n",
    "            else:\n",
    "                return self.right.contains(value)\n",
    "        else:\n",
    "            return True \n",
    "    \n",
    "    def getMin(self): #get smallest value\n",
    "        if self.left is None:\n",
    "            return self.value \n",
    "        else: \n",
    "            return self.left.getMin()\n",
    "        \n",
    "    def getMax(self): #get largest value\n",
    "        if self.right is None:\n",
    "            return self.value\n",
    "        else:\n",
    "            return self.right.getMax()\n",
    "    \n",
    "    def remove(self, value, parent=None):\n",
    "        if value < self.value:\n",
    "            if self.left is not None:\n",
    "                self.left.remove(value, self)\n",
    "            elif value > self.value:\n",
    "                if self.right is not None:\n",
    "                    self.right.remove(value, self)\n",
    "            else: \n",
    "                if self.left is not None and self.right is not None:\n",
    "                    self.value = self.right.getMin()\n",
    "                    self.right.remove(self.value, self)\n",
    "                elif parent is None:\n",
    "                    if self.left is not None:\n",
    "                        self.value = self.left.value \n",
    "                        self.right = self.left.right\n",
    "                        self.left = self.left.left\n",
    "                    elif self.right is not None:\n",
    "                        self.value = self.right.value\n",
    "                        self.right = self.right.right\n",
    "                        self.left= self.right.left\n",
    "                    else:\n",
    "                        self.value = None\n",
    "                elif parent.left == self:\n",
    "                    parent.left = self.left if self.left is not None else self.right\n",
    "                elif parent.right == self:\n",
    "                    parent.right = self.left if self.left is not None else self.right\n",
    "            return self\n",
    "bst = BST(15)\n",
    "bst.insert(5)\n",
    "bst.insert(17)\n",
    "bst.insert(7)\n",
    "bst.insert(3)\n",
    "bst.insert(2)\n",
    "bst.insert(1)\n",
    "\n",
    "print(bst.contains(2))\n",
    "print(bst.contains(4))\n",
    "print(bst.getMin())\n",
    "print(bst.getMax())\n",
    "bst.remove(3)\n",
    "bst.remove(1)\n",
    "bst.getMin()\n",
    "print(bst.getMin())\n"
   ]
  },
  {
   "cell_type": "markdown",
   "metadata": {},
   "source": [
    "# Homework"
   ]
  },
  {
   "cell_type": "markdown",
   "metadata": {},
   "source": [
    "#### Problem 1: Linked Lists\n",
    "\n",
    "Using the above examples as a guide, create your own interpretation of the a Linked List class. You can not use the code above exactly, but again it can be used as a guide. This problem requires you to think about how a linked list works and create one using your own logic.\n",
    "\n",
    "*Remember* A Linked List is a list of Nodes that point to the next node in the chain. The first Node starts out as Empty(None) and each node after points to the next.\n",
    "\n",
    "Your Linked List should have a traverse method and have the ability to add a new node"
   ]
  },
  {
   "cell_type": "code",
   "execution_count": 7,
   "metadata": {},
   "outputs": [
    {
     "name": "stdout",
     "output_type": "stream",
     "text": [
      "January\n",
      "February\n",
      "March\n",
      "April\n",
      "May\n",
      "June\n",
      "July\n",
      "August\n",
      "September\n",
      "October\n",
      "November\n",
      "December\n"
     ]
    }
   ],
   "source": [
    "class Head:\n",
    "    def __init__(self, value):\n",
    "        self.value = value\n",
    "        self.next = None\n",
    "\n",
    "class Linking: \n",
    "    def __init__(self):\n",
    "        self.head = None\n",
    "    \n",
    "    def prepend(self, new_value): #this is how we change the head of a list\n",
    "        new_link = Head(new_value) \n",
    "        new_link.next = self.head\n",
    "        self.head = new_link\n",
    "    \n",
    "    def append(self, new_value): #this is how we add a link to the end of a list\n",
    "        new_link = Head(new_value) #first we have to create the new node \n",
    "        \n",
    "        if self.head is None:      #make sure the list is empty first \n",
    "            self.head = new_link\n",
    "            return\n",
    "        \n",
    "        last = self.head          #if the list is not empty, we need to go through the entire list to the end\n",
    "        while last.next:          #then this will add the new node to the end of the chain\n",
    "            last = last.next\n",
    "            \n",
    "        last.next = new_link      #this is adding the new link to the end \n",
    "    \n",
    "    def insert (self, prev_link, new_value): #this is how we add something in the middle of a list\n",
    "        if prev_link is None:\n",
    "            print(\"This link is empty!\")\n",
    "            return \n",
    "        \n",
    "        new_link = Head(new_value)  #this is how we create a new link in the chain\n",
    "        \n",
    "        new_link.next = prev_link.next      #this is how we change the previous link to the next link\n",
    "        \n",
    "        prev_link.next = new_link\n",
    "    \n",
    "    def traverse(self): #this is how we loop through and check the list\n",
    "        link = self.head\n",
    "        while link != None:\n",
    "            print(link.value)\n",
    "            link = link.next\n",
    "\n",
    "months_of_year = Linking()\n",
    "months_of_year.prepend(\"February\")\n",
    "months_of_year.append(\"March\")\n",
    "months_of_year.append(\"May\")\n",
    "months_of_year.insert(months_of_year.head.next , \"April\")\n",
    "months_of_year.prepend(\"January\")\n",
    "months_of_year.append(\"August\")\n",
    "months_of_year.append(\"September\")\n",
    "months_of_year.append(\"October\")\n",
    "months_of_year.append(\"November\")\n",
    "months_of_year.append(\"December\")\n",
    "months_of_year.insert(months_of_year.head.next.next.next.next , \"June\")\n",
    "months_of_year.insert(months_of_year.head.next.next.next.next.next , \"July\")\n",
    "months_of_year.traverse()\n"
   ]
  },
  {
   "cell_type": "markdown",
   "metadata": {},
   "source": [
    "#### Problem 2: Binary Search Tree\n",
    "\n",
    "Using the above examples as a guide, create your own interpretation of the a Binary Search Tree class. You can not use the code above exactly, but again it can be used as a guide. This problem requires you to think about how a Binary Search Tree works and create one using your own logic.\n",
    "\n",
    "*Remember* Binary Search Trees start with a head node and each node to the left of that will be smaller, each node to the right of it will be greater. The far left node should be the lowest number(if one exists) that is available. The far right node (if one exists) should be the greatest number"
   ]
  },
  {
   "cell_type": "code",
   "execution_count": 9,
   "metadata": {},
   "outputs": [
    {
     "name": "stdout",
     "output_type": "stream",
     "text": [
      "False\n",
      "False\n",
      "1\n",
      "22\n",
      "1\n"
     ]
    }
   ],
   "source": [
    "class HappyLittleBinarySearchTrees():\n",
    "    def __init__(self, value):\n",
    "        self.value = value\n",
    "        self.left = None\n",
    "        self.right = None\n",
    "        \n",
    "    def newbranch(self, value):\n",
    "        if value < self.value:\n",
    "            if self.left is None:\n",
    "                self.left = HappyLittleBinarySearchTrees(value)\n",
    "            else: \n",
    "                self.left.newbranch(value)\n",
    "        else:\n",
    "            if self.right is None:\n",
    "                self.right = HappyLittleBinarySearchTrees(value)\n",
    "            else:\n",
    "                self.right.newbranch(value)\n",
    "                \n",
    "        return self\n",
    "    \n",
    "    def is_it_there(self, value):\n",
    "        if value < self.value: \n",
    "            if self.left is None:\n",
    "                return False\n",
    "            else:\n",
    "                return self.left.is_it_there(value)\n",
    "        elif value > self.value:\n",
    "            if self.right is None:\n",
    "                return False\n",
    "            else:\n",
    "                return self.right.is_it_there(value)\n",
    "        else:\n",
    "            return True \n",
    "    \n",
    "    def minimum_x(self): #get smallest value\n",
    "        if self.left is None:\n",
    "            return self.value \n",
    "        else: \n",
    "            return self.left.minimum_x()\n",
    "        \n",
    "    def maximum_x(self): #get largest value\n",
    "        if self.right is None:\n",
    "            return self.value\n",
    "        else:\n",
    "            return self.right.maximum_x()\n",
    "    \n",
    "    def remove(self, value, parent=None):\n",
    "        if value < self.value:\n",
    "            if self.left is not None:\n",
    "                self.left.remove(value, self)\n",
    "            elif value > self.value:\n",
    "                if self.right is not None:\n",
    "                    self.right.remove(value, self)\n",
    "            else: \n",
    "                if self.left is not None and self.right is not None:\n",
    "                    self.value = self.right.minimum_x()\n",
    "                    self.right.remove(self.value, self)\n",
    "                elif parent is None:\n",
    "                    if self.left is not None:\n",
    "                        self.value = self.left.value \n",
    "                        self.right = self.left.right\n",
    "                        self.left = self.left.left\n",
    "                    elif self.right is not None:\n",
    "                        self.value = self.right.value\n",
    "                        self.right = self.right.right\n",
    "                        self.left= self.right.left\n",
    "                    else:\n",
    "                        self.value = None\n",
    "                elif parent.left == self:\n",
    "                    parent.left = self.left if self.left is not None else self.right\n",
    "                elif parent.right == self:\n",
    "                    parent.right = self.left if self.left is not None else self.right\n",
    "            return self\n",
    "hlbst = HappyLittleBinarySearchTrees(20)\n",
    "hlbst.newbranch(15)\n",
    "hlbst.newbranch(22)\n",
    "hlbst.newbranch(17)\n",
    "hlbst.newbranch(10)\n",
    "hlbst.newbranch(7)\n",
    "hlbst.newbranch(1)\n",
    "\n",
    "print(hlbst.is_it_there(2))\n",
    "print(hlbst.is_it_there(4))\n",
    "print(hlbst.minimum_x())\n",
    "print(hlbst.maximum_x())\n",
    "hlbst.remove(3)\n",
    "hlbst.remove(1)\n",
    "hlbst.minimum_x()\n",
    "print(hlbst.minimum_x())"
   ]
  },
  {
   "cell_type": "code",
   "execution_count": null,
   "metadata": {},
   "outputs": [],
   "source": []
  }
 ],
 "metadata": {
  "kernelspec": {
   "display_name": "Python 3 (ipykernel)",
   "language": "python",
   "name": "python3"
  },
  "language_info": {
   "codemirror_mode": {
    "name": "ipython",
    "version": 3
   },
   "file_extension": ".py",
   "mimetype": "text/x-python",
   "name": "python",
   "nbconvert_exporter": "python",
   "pygments_lexer": "ipython3",
   "version": "3.9.7"
  }
 },
 "nbformat": 4,
 "nbformat_minor": 2
}
